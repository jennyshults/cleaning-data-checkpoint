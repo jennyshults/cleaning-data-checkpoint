{
    "cells": [
        {
            "attachments": {},
            "cell_type": "markdown",
            "metadata": {
                "azdata_cell_guid": "26037d32-2047-4157-81ef-595916bd66a0"
            },
            "source": [
                "# Checkpoint Three: Cleaning Data\n",
                "\n",
                "Now you are ready to clean your data. Before starting coding, provide the link to your dataset below.\n",
                "\n",
                "My dataset:\n",
                "\n",
                "Import the necessary libraries and create your dataframe(s)."
            ]
        },
        {
            "cell_type": "code",
            "execution_count": 1636,
            "metadata": {
                "azdata_cell_guid": "e8adef8e-d0f2-4640-a179-5997f11e82ca"
            },
            "outputs": [],
            "source": [
                "# import pandas module\n",
                "import pandas as pd\n",
                "import numpy as np\n",
                "import seaborn as sns\n",
                "import matplotlib\n",
                "from matplotlib import pyplot as plt\n",
                "\n",
                "# creating Students dataframe\n",
                "students = pd.read_csv(\"Students.csv\")\n",
                "\n",
                "# creating Attendance dataframe\n",
                "attendance = pd.read_csv(\"Attendance.csv\")\n",
                "\n",
                "# creating Grades dataframe\n",
                "grades = pd.read_csv(\"Grades.csv\")"
            ]
        },
        {
            "attachments": {},
            "cell_type": "markdown",
            "metadata": {
                "azdata_cell_guid": "e172475a-c4ee-414a-8367-9965355dbba6"
            },
            "source": [
                "## Missing Data\n",
                "\n",
                "Test your dataset for missing data and handle it as needed. Make notes in the form of code comments as to your thought process."
            ]
        },
        {
            "cell_type": "code",
            "execution_count": 1637,
            "metadata": {
                "azdata_cell_guid": "e1dc66ef-e471-4c27-92e7-ee878c106eba"
            },
            "outputs": [
                {
                    "data": {
                        "text/plain": [
                            "ContactID             0\n",
                            "Created               0\n",
                            "Updated               0\n",
                            "Location              0\n",
                            "Campaign             58\n",
                            "Program               0\n",
                            "SubFaculty            0\n",
                            "ProgramType           0\n",
                            "Status                0\n",
                            "StartDate             0\n",
                            "EndDate               0\n",
                            "LDA                   0\n",
                            "TerminationDate      29\n",
                            "Gender                0\n",
                            "BirthDate             0\n",
                            "EducationLevel        0\n",
                            "Postal                0\n",
                            "TestScore          1064\n",
                            "WonderlicScore        0\n",
                            "PrimaryFunder         0\n",
                            "NetRevenue            0\n",
                            "dtype: int64"
                        ]
                    },
                    "execution_count": 1637,
                    "metadata": {},
                    "output_type": "execute_result"
                }
            ],
            "source": [
                "# Checking for nulls in Students df\n",
                "students.isnull().sum()\n"
            ]
        },
        {
            "cell_type": "code",
            "execution_count": 1638,
            "metadata": {},
            "outputs": [
                {
                    "data": {
                        "text/plain": [
                            "ContactID            int64\n",
                            "Created             object\n",
                            "Updated             object\n",
                            "Location            object\n",
                            "Campaign            object\n",
                            "Program             object\n",
                            "SubFaculty          object\n",
                            "ProgramType         object\n",
                            "Status              object\n",
                            "StartDate           object\n",
                            "EndDate             object\n",
                            "LDA                 object\n",
                            "TerminationDate     object\n",
                            "Gender              object\n",
                            "BirthDate           object\n",
                            "EducationLevel      object\n",
                            "Postal              object\n",
                            "TestScore          float64\n",
                            "WonderlicScore      object\n",
                            "PrimaryFunder       object\n",
                            "NetRevenue         float64\n",
                            "dtype: object"
                        ]
                    },
                    "execution_count": 1638,
                    "metadata": {},
                    "output_type": "execute_result"
                }
            ],
            "source": [
                "# Checking datatypes in Students df\n",
                "students.dtypes"
            ]
        },
        {
            "cell_type": "code",
            "execution_count": 1639,
            "metadata": {},
            "outputs": [
                {
                    "data": {
                        "text/plain": [
                            "0                20\n",
                            "1                22\n",
                            "2                19\n",
                            "3                23\n",
                            "4                21\n",
                            "           ...     \n",
                            "1724           N.A.\n",
                            "1725    25 A1 Timed\n",
                            "1726           N.A.\n",
                            "1727           N.A.\n",
                            "1728    21 A1 Timed\n",
                            "Name: WonderlicScore, Length: 1729, dtype: object"
                        ]
                    },
                    "execution_count": 1639,
                    "metadata": {},
                    "output_type": "execute_result"
                }
            ],
            "source": [
                "# Checking what data is in WonderlicScore, because it should be the same as TestScore,\n",
                "# yet there are no nulls and it's a string type\n",
                "students['WonderlicScore']"
            ]
        },
        {
            "cell_type": "code",
            "execution_count": 1640,
            "metadata": {},
            "outputs": [
                {
                    "name": "stderr",
                    "output_type": "stream",
                    "text": [
                        "C:\\Users\\JennyShults\\AppData\\Local\\Temp\\ipykernel_13220\\2739205780.py:4: FutureWarning: The default value of regex will change from True to False in a future version.\n",
                        "  students_c['WonderlicScore'] = students_c.WonderlicScore.str.replace(r'[^0-9]+', '').str[:2]\n"
                    ]
                },
                {
                    "data": {
                        "text/plain": [
                            "0       20.0\n",
                            "1       22.0\n",
                            "2       19.0\n",
                            "3       23.0\n",
                            "4       21.0\n",
                            "        ... \n",
                            "1724     NaN\n",
                            "1725    25.0\n",
                            "1726     NaN\n",
                            "1727     NaN\n",
                            "1728    21.0\n",
                            "Name: WonderlicScore, Length: 1729, dtype: float64"
                        ]
                    },
                    "execution_count": 1640,
                    "metadata": {},
                    "output_type": "execute_result"
                }
            ],
            "source": [
                "# Creating new Student dataframe, removing non-numeric characters from \n",
                "# WonderlicScore and converting to numeric (also changes N.A. to null)\n",
                "students_c = students.copy(deep=True)\n",
                "students_c['WonderlicScore'] = students_c.WonderlicScore.str.replace(r'[^0-9]+', '').str[:2]\n",
                "students_c['WonderlicScore'] = pd.to_numeric(students_c['WonderlicScore'])\n",
                "students_c['WonderlicScore']\n"
            ]
        },
        {
            "cell_type": "code",
            "execution_count": 1641,
            "metadata": {},
            "outputs": [
                {
                    "data": {
                        "text/plain": [
                            "ContactID             0\n",
                            "Created               0\n",
                            "Updated               0\n",
                            "Location              0\n",
                            "Campaign             58\n",
                            "Program               0\n",
                            "SubFaculty            0\n",
                            "ProgramType           0\n",
                            "Status                0\n",
                            "StartDate             0\n",
                            "EndDate               0\n",
                            "LDA                   0\n",
                            "TerminationDate      29\n",
                            "Gender                0\n",
                            "BirthDate             0\n",
                            "EducationLevel        0\n",
                            "Postal                0\n",
                            "TestScore          1064\n",
                            "WonderlicScore      438\n",
                            "PrimaryFunder         0\n",
                            "NetRevenue            0\n",
                            "dtype: int64"
                        ]
                    },
                    "execution_count": 1641,
                    "metadata": {},
                    "output_type": "execute_result"
                }
            ],
            "source": [
                "# Checking for nulls in new Students_c df\n",
                "students_c.isnull().sum()"
            ]
        },
        {
            "cell_type": "code",
            "execution_count": 1642,
            "metadata": {},
            "outputs": [
                {
                    "data": {
                        "text/plain": [
                            "0       20.0\n",
                            "1       22.0\n",
                            "2       19.0\n",
                            "3       23.0\n",
                            "4       21.0\n",
                            "        ... \n",
                            "1724    15.0\n",
                            "1725    25.0\n",
                            "1726    18.0\n",
                            "1727    16.0\n",
                            "1728    21.0\n",
                            "Name: EntranceExam, Length: 1729, dtype: float64"
                        ]
                    },
                    "execution_count": 1642,
                    "metadata": {},
                    "output_type": "execute_result"
                }
            ],
            "source": [
                "# Dealing with TestScore/Wonderlic nulls -- WonderlicScore is the same as TestScore, \n",
                "# so I'm merging the data into a new column called EntranceExam\n",
                "students_c['EntranceExam'] = students_c['TestScore'].fillna(students_c['WonderlicScore'])\n",
                "students_c['EntranceExam']"
            ]
        },
        {
            "cell_type": "code",
            "execution_count": 1643,
            "metadata": {},
            "outputs": [
                {
                    "data": {
                        "text/plain": [
                            "177"
                        ]
                    },
                    "execution_count": 1643,
                    "metadata": {},
                    "output_type": "execute_result"
                }
            ],
            "source": [
                "# Checking for nulls in EntranceExam (will deal with at visualization time)\n",
                "students_c.EntranceExam.isnull().sum()"
            ]
        },
        {
            "cell_type": "code",
            "execution_count": 1644,
            "metadata": {},
            "outputs": [
                {
                    "data": {
                        "text/plain": [
                            "AttendanceId           0\n",
                            "Created                0\n",
                            "Updated                0\n",
                            "ContactID            225\n",
                            "IntakeEventId        371\n",
                            "AttendanceDate         0\n",
                            "Status                 0\n",
                            "Notes             122564\n",
                            "StartTime              3\n",
                            "EndTime                2\n",
                            "dtype: int64"
                        ]
                    },
                    "execution_count": 1644,
                    "metadata": {},
                    "output_type": "execute_result"
                }
            ],
            "source": [
                "# Checking for nulls in Attendance df\n",
                "attendance.isnull().sum()\n"
            ]
        },
        {
            "cell_type": "code",
            "execution_count": 1645,
            "metadata": {},
            "outputs": [
                {
                    "data": {
                        "text/plain": [
                            "AttendanceId           0\n",
                            "Created                0\n",
                            "Updated                0\n",
                            "ContactID              0\n",
                            "IntakeEventId        367\n",
                            "AttendanceDate         0\n",
                            "Status                 0\n",
                            "Notes             122343\n",
                            "StartTime              3\n",
                            "EndTime                2\n",
                            "dtype: int64"
                        ]
                    },
                    "execution_count": 1645,
                    "metadata": {},
                    "output_type": "execute_result"
                }
            ],
            "source": [
                "# Creating new Attendance dataframe and removing attendance records with\n",
                "# null values for ContactID, as I won't be able to match them to a student\n",
                "attendance_c = attendance.copy(deep=True)\n",
                "attendance_c = attendance_c[~attendance_c['ContactID'].isnull()]\n",
                "attendance_c.isnull().sum()"
            ]
        },
        {
            "cell_type": "code",
            "execution_count": 1646,
            "metadata": {},
            "outputs": [
                {
                    "data": {
                        "text/plain": [
                            "AttendanceId           0\n",
                            "Created                0\n",
                            "Updated                0\n",
                            "ContactID              0\n",
                            "IntakeEventId        367\n",
                            "AttendanceDate         0\n",
                            "Status                 0\n",
                            "Notes             122340\n",
                            "StartTime              0\n",
                            "EndTime                0\n",
                            "dtype: int64"
                        ]
                    },
                    "execution_count": 1646,
                    "metadata": {},
                    "output_type": "execute_result"
                }
            ],
            "source": [
                "# Removing attendance records with null values for Start Time, as I won't \n",
                "# be able to calculate hours (also takes care of null values for End Time)\n",
                "attendance_c = attendance_c[~attendance_c['StartTime'].isnull()]\n",
                "attendance_c.isnull().sum()"
            ]
        },
        {
            "cell_type": "code",
            "execution_count": 1647,
            "metadata": {},
            "outputs": [
                {
                    "data": {
                        "text/plain": [
                            "GradeID         0\n",
                            "Created         0\n",
                            "Updated         0\n",
                            "ContactID      20\n",
                            "CourseID        0\n",
                            "CourseName      0\n",
                            "Score         118\n",
                            "dtype: int64"
                        ]
                    },
                    "execution_count": 1647,
                    "metadata": {},
                    "output_type": "execute_result"
                }
            ],
            "source": [
                "# Checking for nulls in Grades df\n",
                "grades.isnull().sum()"
            ]
        },
        {
            "cell_type": "code",
            "execution_count": 1648,
            "metadata": {},
            "outputs": [
                {
                    "data": {
                        "text/plain": [
                            "GradeID         0\n",
                            "Created         0\n",
                            "Updated         0\n",
                            "ContactID       0\n",
                            "CourseID        0\n",
                            "CourseName      0\n",
                            "Score         113\n",
                            "dtype: int64"
                        ]
                    },
                    "execution_count": 1648,
                    "metadata": {},
                    "output_type": "execute_result"
                }
            ],
            "source": [
                "# Creating new Grades dataframe and removing grade records with null\n",
                "# values for ContactID, as I won't be able to match them to a student\n",
                "grades_c = grades.copy(deep=True)\n",
                "grades_c = grades_c[~grades_c['ContactID'].isnull()]\n",
                "grades_c.isnull().sum()"
            ]
        },
        {
            "cell_type": "code",
            "execution_count": 1649,
            "metadata": {},
            "outputs": [
                {
                    "data": {
                        "text/plain": [
                            "GradeID       0\n",
                            "Created       0\n",
                            "Updated       0\n",
                            "ContactID     0\n",
                            "CourseID      0\n",
                            "CourseName    0\n",
                            "Score         0\n",
                            "dtype: int64"
                        ]
                    },
                    "execution_count": 1649,
                    "metadata": {},
                    "output_type": "execute_result"
                }
            ],
            "source": [
                "# Removing grade records with null values for score\n",
                "grades_c = grades_c[~grades_c['Score'].isnull()]\n",
                "grades_c.isnull().sum()"
            ]
        },
        {
            "attachments": {},
            "cell_type": "markdown",
            "metadata": {
                "azdata_cell_guid": "1233f543-e9a0-4f78-96f5-d7536554102e"
            },
            "source": [
                "## Irregular Data\n",
                "\n",
                "Detect outliers in your dataset and handle them as needed. Use code comments to make notes about your thought process."
            ]
        },
        {
            "cell_type": "code",
            "execution_count": 1650,
            "metadata": {
                "azdata_cell_guid": "efed50ae-16f0-471d-98e2-632553a74c12"
            },
            "outputs": [
                {
                    "data": {
                        "text/plain": [
                            "<AxesSubplot: title={'center': 'Entrance Exam Score Distribution'}, ylabel='Frequency'>"
                        ]
                    },
                    "execution_count": 1650,
                    "metadata": {},
                    "output_type": "execute_result"
                },
                {
                    "data": {
                        "image/png": "[encoded data removed]",
                        "text/plain": [
                            "<Figure size 640x480 with 1 Axes>"
                        ]
                    },
                    "metadata": {},
                    "output_type": "display_data"
                }
            ],
            "source": [
                "# Plotting a histogram on Students_c EntranceExam field to see if there are outliers. \n",
                "# Max score is 40, typical score is 15-25.\n",
                "students_c[['EntranceExam']].plot.hist(bins = 30, title = 'Entrance Exam Score Distribution')"
            ]
        },
        {
            "cell_type": "code",
            "execution_count": 1651,
            "metadata": {},
            "outputs": [],
            "source": [
                "# Changing outliers (including zeroes) to null for EntranceExam\n",
                "students_c.loc[(students_c.EntranceExam > 40) | (students_c.EntranceExam == 0), 'EntranceExam'] = None"
            ]
        },
        {
            "cell_type": "code",
            "execution_count": 1652,
            "metadata": {},
            "outputs": [
                {
                    "data": {
                        "text/plain": [
                            "12.0"
                        ]
                    },
                    "execution_count": 1652,
                    "metadata": {},
                    "output_type": "execute_result"
                }
            ],
            "source": [
                "# Checking Min to see that there are no zeroes\n",
                "students_c.EntranceExam.min()"
            ]
        },
        {
            "cell_type": "code",
            "execution_count": 1653,
            "metadata": {},
            "outputs": [
                {
                    "data": {
                        "text/plain": [
                            "<AxesSubplot: title={'center': 'Grades Distribution'}, ylabel='Frequency'>"
                        ]
                    },
                    "execution_count": 1653,
                    "metadata": {},
                    "output_type": "execute_result"
                },
                {
                    "data": {
                        "image/png": "[encoded data removed]",
                        "text/plain": [
                            "<Figure size 640x480 with 1 Axes>"
                        ]
                    },
                    "metadata": {},
                    "output_type": "display_data"
                }
            ],
            "source": [
                "# Plotting a histogram on Grades_c Scores field to see if there are outliers. \n",
                "# Range should be 0-100.\n",
                "grades_c[['Score']].plot.hist(bins = 30, title = 'Grades Distribution')"
            ]
        },
        {
            "cell_type": "code",
            "execution_count": 1654,
            "metadata": {},
            "outputs": [],
            "source": [
                "# Fixing 1/1/1900 dates in Updated column across all three dataframes\n",
                "students_c.loc[(students_c.Updated == '1/1/1900 12:00:00 AM'), 'Updated'] = students_c['Created']\n",
                "attendance_c.loc[(attendance_c.Updated == '1/1/1900 12:00:00 AM'), 'Updated'] = attendance_c['Created']\n",
                "grades_c.loc[(grades_c.Updated == '1/1/1900 12:00:00 AM'), 'Updated'] = grades_c['Created']"
            ]
        },
        {
            "attachments": {},
            "cell_type": "markdown",
            "metadata": {
                "azdata_cell_guid": "6f5b8ee0-bab3-44bc-958a-67d1e4c0407f"
            },
            "source": [
                "## Unnecessary Data\n",
                "\n",
                "Look for the different types of unnecessary data in your dataset and address it as needed. Make sure to use code comments to illustrate your thought process."
            ]
        },
        {
            "cell_type": "code",
            "execution_count": 1655,
            "metadata": {
                "azdata_cell_guid": "e788a239-2fbf-41de-9bd3-19e52e3b187c"
            },
            "outputs": [
                {
                    "name": "stdout",
                    "output_type": "stream",
                    "text": [
                        "<class 'pandas.core.frame.DataFrame'>\n",
                        "RangeIndex: 1729 entries, 0 to 1728\n",
                        "Data columns (total 22 columns):\n",
                        " #   Column           Non-Null Count  Dtype  \n",
                        "---  ------           --------------  -----  \n",
                        " 0   ContactID        1729 non-null   int64  \n",
                        " 1   Created          1729 non-null   object \n",
                        " 2   Updated          1729 non-null   object \n",
                        " 3   Location         1729 non-null   object \n",
                        " 4   Campaign         1671 non-null   object \n",
                        " 5   Program          1729 non-null   object \n",
                        " 6   SubFaculty       1729 non-null   object \n",
                        " 7   ProgramType      1729 non-null   object \n",
                        " 8   Status           1729 non-null   object \n",
                        " 9   StartDate        1729 non-null   object \n",
                        " 10  EndDate          1729 non-null   object \n",
                        " 11  LDA              1729 non-null   object \n",
                        " 12  TerminationDate  1700 non-null   object \n",
                        " 13  Gender           1729 non-null   object \n",
                        " 14  BirthDate        1729 non-null   object \n",
                        " 15  EducationLevel   1729 non-null   object \n",
                        " 16  Postal           1729 non-null   object \n",
                        " 17  TestScore        665 non-null    float64\n",
                        " 18  WonderlicScore   1291 non-null   float64\n",
                        " 19  PrimaryFunder    1729 non-null   object \n",
                        " 20  NetRevenue       1729 non-null   float64\n",
                        " 21  EntranceExam     1532 non-null   float64\n",
                        "dtypes: float64(4), int64(1), object(17)\n",
                        "memory usage: 297.3+ KB\n"
                    ]
                }
            ],
            "source": [
                "students_c.info()"
            ]
        },
        {
            "cell_type": "code",
            "execution_count": 1656,
            "metadata": {},
            "outputs": [
                {
                    "name": "stdout",
                    "output_type": "stream",
                    "text": [
                        "<class 'pandas.core.frame.DataFrame'>\n",
                        "RangeIndex: 1729 entries, 0 to 1728\n",
                        "Data columns (total 20 columns):\n",
                        " #   Column           Non-Null Count  Dtype  \n",
                        "---  ------           --------------  -----  \n",
                        " 0   ContactID        1729 non-null   int64  \n",
                        " 1   Created          1729 non-null   object \n",
                        " 2   Updated          1729 non-null   object \n",
                        " 3   Location         1729 non-null   object \n",
                        " 4   Campaign         1671 non-null   object \n",
                        " 5   Program          1729 non-null   object \n",
                        " 6   SubFaculty       1729 non-null   object \n",
                        " 7   ProgramType      1729 non-null   object \n",
                        " 8   Status           1729 non-null   object \n",
                        " 9   StartDate        1729 non-null   object \n",
                        " 10  EndDate          1729 non-null   object \n",
                        " 11  LDA              1729 non-null   object \n",
                        " 12  TerminationDate  1700 non-null   object \n",
                        " 13  Gender           1729 non-null   object \n",
                        " 14  BirthDate        1729 non-null   object \n",
                        " 15  EducationLevel   1729 non-null   object \n",
                        " 16  Postal           1729 non-null   object \n",
                        " 17  PrimaryFunder    1729 non-null   object \n",
                        " 18  NetRevenue       1729 non-null   float64\n",
                        " 19  EntranceExam     1532 non-null   float64\n",
                        "dtypes: float64(2), int64(1), object(17)\n",
                        "memory usage: 270.3+ KB\n"
                    ]
                }
            ],
            "source": [
                "# Dropping TestScore and WonderlicScore columns since the EntranceExam column incorporates both\n",
                "students_c.drop(['TestScore', 'WonderlicScore'], axis=1, inplace=True)\n",
                "students_c.info()"
            ]
        },
        {
            "cell_type": "code",
            "execution_count": 1657,
            "metadata": {},
            "outputs": [
                {
                    "name": "stdout",
                    "output_type": "stream",
                    "text": [
                        "<class 'pandas.core.frame.DataFrame'>\n",
                        "Int64Index: 180263 entries, 0 to 180490\n",
                        "Data columns (total 10 columns):\n",
                        " #   Column          Non-Null Count   Dtype  \n",
                        "---  ------          --------------   -----  \n",
                        " 0   AttendanceId    180263 non-null  int64  \n",
                        " 1   Created         180263 non-null  object \n",
                        " 2   Updated         180263 non-null  object \n",
                        " 3   ContactID       180263 non-null  float64\n",
                        " 4   IntakeEventId   179896 non-null  float64\n",
                        " 5   AttendanceDate  180263 non-null  object \n",
                        " 6   Status          180263 non-null  object \n",
                        " 7   Notes           57923 non-null   object \n",
                        " 8   StartTime       180263 non-null  object \n",
                        " 9   EndTime         180263 non-null  object \n",
                        "dtypes: float64(2), int64(1), object(7)\n",
                        "memory usage: 15.1+ MB\n"
                    ]
                }
            ],
            "source": [
                "attendance_c.info()"
            ]
        },
        {
            "cell_type": "code",
            "execution_count": 1658,
            "metadata": {},
            "outputs": [
                {
                    "name": "stdout",
                    "output_type": "stream",
                    "text": [
                        "<class 'pandas.core.frame.DataFrame'>\n",
                        "Int64Index: 180263 entries, 0 to 180490\n",
                        "Data columns (total 8 columns):\n",
                        " #   Column          Non-Null Count   Dtype  \n",
                        "---  ------          --------------   -----  \n",
                        " 0   AttendanceId    180263 non-null  int64  \n",
                        " 1   Created         180263 non-null  object \n",
                        " 2   Updated         180263 non-null  object \n",
                        " 3   ContactID       180263 non-null  float64\n",
                        " 4   AttendanceDate  180263 non-null  object \n",
                        " 5   Status          180263 non-null  object \n",
                        " 6   StartTime       180263 non-null  object \n",
                        " 7   EndTime         180263 non-null  object \n",
                        "dtypes: float64(1), int64(1), object(6)\n",
                        "memory usage: 12.4+ MB\n"
                    ]
                }
            ],
            "source": [
                "# Dropping IntakeEventId and Notes columns, as they're irrelevant\n",
                "attendance_c.drop(['IntakeEventId', 'Notes'], axis=1, inplace=True)\n",
                "attendance_c.info()"
            ]
        },
        {
            "cell_type": "code",
            "execution_count": 1659,
            "metadata": {},
            "outputs": [
                {
                    "name": "stdout",
                    "output_type": "stream",
                    "text": [
                        "<class 'pandas.core.frame.DataFrame'>\n",
                        "Int64Index: 25624 entries, 0 to 25756\n",
                        "Data columns (total 7 columns):\n",
                        " #   Column      Non-Null Count  Dtype  \n",
                        "---  ------      --------------  -----  \n",
                        " 0   GradeID     25624 non-null  int64  \n",
                        " 1   Created     25624 non-null  object \n",
                        " 2   Updated     25624 non-null  object \n",
                        " 3   ContactID   25624 non-null  float64\n",
                        " 4   CourseID    25624 non-null  int64  \n",
                        " 5   CourseName  25624 non-null  object \n",
                        " 6   Score       25624 non-null  float64\n",
                        "dtypes: float64(2), int64(2), object(3)\n",
                        "memory usage: 1.6+ MB\n"
                    ]
                }
            ],
            "source": [
                "grades_c.info()"
            ]
        },
        {
            "attachments": {},
            "cell_type": "markdown",
            "metadata": {
                "azdata_cell_guid": "53e0cf94-c68a-4fa0-9849-9505a66bcce6"
            },
            "source": [
                "## Inconsistent Data\n",
                "\n",
                "Check for inconsistent data and address any that arises. As always, use code comments to illustrate your thought process."
            ]
        },
        {
            "cell_type": "code",
            "execution_count": 1660,
            "metadata": {
                "azdata_cell_guid": "e9de6624-812a-43f8-8e20-93b4a49b091f"
            },
            "outputs": [
                {
                    "data": {
                        "text/plain": [
                            "0         510165\n",
                            "1           8905\n",
                            "2           8900\n",
                            "3           8908\n",
                            "4           8871\n",
                            "           ...  \n",
                            "180486    527261\n",
                            "180487    526139\n",
                            "180488    527866\n",
                            "180489    528048\n",
                            "180490    516512\n",
                            "Name: ContactID, Length: 180263, dtype: int32"
                        ]
                    },
                    "execution_count": 1660,
                    "metadata": {},
                    "output_type": "execute_result"
                }
            ],
            "source": [
                "# Changing Attendance_c ContactID to Int to match Students_c df\n",
                "attendance_c['ContactID'] = attendance_c['ContactID'].astype('int')\n",
                "attendance_c.ContactID"
            ]
        },
        {
            "cell_type": "code",
            "execution_count": 1661,
            "metadata": {},
            "outputs": [
                {
                    "data": {
                        "text/plain": [
                            "0          8796\n",
                            "1          8347\n",
                            "2          8955\n",
                            "3          8934\n",
                            "4          8932\n",
                            "          ...  \n",
                            "25752    523390\n",
                            "25753    523818\n",
                            "25754    519610\n",
                            "25755    528627\n",
                            "25756    528628\n",
                            "Name: ContactID, Length: 25624, dtype: int32"
                        ]
                    },
                    "execution_count": 1661,
                    "metadata": {},
                    "output_type": "execute_result"
                }
            ],
            "source": [
                "# Changing Grades_c ContactID to Int to match Students_c df\n",
                "grades_c['ContactID'] = grades_c['ContactID'].astype('int')\n",
                "grades_c.ContactID"
            ]
        },
        {
            "attachments": {},
            "cell_type": "markdown",
            "metadata": {
                "azdata_cell_guid": "dedc0bfe-17d0-40b2-914f-2ddb54f9ce0d"
            },
            "source": [
                "## Summarize Your Results\n",
                "\n",
                "Make note of your answers to the following questions.\n",
                "\n",
                "1. Did you find all four types of dirty data in your dataset?\n",
                "2. Did the process of cleaning your data give you new insights into your dataset?\n",
                "3. Is there anything you would like to make note of when it comes to manipulating the data and making visualizations?"
            ]
        },
        {
            "attachments": {},
            "cell_type": "markdown",
            "metadata": {},
            "source": [
                "1. Yes, I did!\n",
                "2. Yes, it showed me that when we transferred data from our old SIS to our new SIS, they did not validate the incoming data, so there are inconsistencies. Something to address in the future!\n",
                "3. I think there will be some issues with the date formats and sorting, but I'm hopeful Tableau can handle it."
            ]
        }
    ],
    "metadata": {
        "kernelspec": {
            "display_name": "Python 3",
            "language": "python",
            "name": "python3"
        },
        "language_info": {
            "codemirror_mode": {
                "name": "ipython",
                "version": 3
            },
            "file_extension": ".py",
            "mimetype": "text/x-python",
            "name": "python",
            "nbconvert_exporter": "python",
            "pygments_lexer": "ipython3",
            "version": "3.11.1"
        }
    },
    "nbformat": 4,
    "nbformat_minor": 2
}
